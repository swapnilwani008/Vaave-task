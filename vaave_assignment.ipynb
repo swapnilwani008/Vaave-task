{
  "nbformat": 4,
  "nbformat_minor": 0,
  "metadata": {
    "colab": {
      "provenance": [],
      "collapsed_sections": [],
      "authorship_tag": "ABX9TyMkOOJj0vBmfEud7v/DTL6Z",
      "include_colab_link": true
    },
    "kernelspec": {
      "name": "python3",
      "display_name": "Python 3"
    },
    "language_info": {
      "name": "python"
    }
  },
  "cells": [
    {
      "cell_type": "markdown",
      "metadata": {
        "id": "view-in-github",
        "colab_type": "text"
      },
      "source": [
        "<a href=\"https://colab.research.google.com/github/swapnilwani008/Vaave-task/blob/main/vaave_assignment.ipynb\" target=\"_parent\"><img src=\"https://colab.research.google.com/assets/colab-badge.svg\" alt=\"Open In Colab\"/></a>"
      ]
    },
    {
      "cell_type": "markdown",
      "source": [
        "importing neccesary module"
      ],
      "metadata": {
        "id": "iknpFpSpJ1BR"
      }
    },
    {
      "cell_type": "code",
      "execution_count": 16,
      "metadata": {
        "id": "0Jek06zI5Tbe"
      },
      "outputs": [],
      "source": [
        "import pandas as pd\n",
        "import numpy as np\n",
        "import matplotlib.pyplot as plt\n",
        "import seaborn as sns\n"
      ]
    },
    {
      "cell_type": "markdown",
      "source": [
        "reading excel file "
      ],
      "metadata": {
        "id": "nqr2YEyNKBMP"
      }
    },
    {
      "cell_type": "code",
      "source": [
        "df = pd.read_excel(\"/content/assignment_data.xlsx\")"
      ],
      "metadata": {
        "id": "tA2ozMWO6p5R"
      },
      "execution_count": 17,
      "outputs": []
    },
    {
      "cell_type": "code",
      "source": [
        "df"
      ],
      "metadata": {
        "colab": {
          "base_uri": "https://localhost:8080/",
          "height": 424
        },
        "id": "1s_XJOjG7hAA",
        "outputId": "2d619448-a4c6-442d-fc5b-b054e9cd9fa7"
      },
      "execution_count": 18,
      "outputs": [
        {
          "output_type": "execute_result",
          "data": {
            "text/plain": [
              "      Unnamed: 0                                        description  \\\n",
              "0            0.0  <html><body><p>Know how of Automotive Diagnosi...   \n",
              "1            1.0  <html><body><ul><li><p>Total 4+ years of exper...   \n",
              "2            2.0  <html><body><ul><li><p>Total of 8+ years of ex...   \n",
              "3            3.0  <html><body><p>Work Experience : 8-12 years</p...   \n",
              "4            4.0  <html><body><p><strong>Job Description </stron...   \n",
              "...          ...                                                ...   \n",
              "2362      2362.0  <html><body><p> </p><p>We are looking for cand...   \n",
              "2363      2363.0  <html><body><p> </p><p>We are looking for cand...   \n",
              "2364      2364.0  <html><body><p> </p><p>We are looking for cand...   \n",
              "2365      2365.0  <html><body><p> </p><p>We are looking for cand...   \n",
              "2366      2366.0  <html><body><p> </p><p>We are looking for cand...   \n",
              "\n",
              "           value  \n",
              "0      Bengaluru  \n",
              "1      Bengaluru  \n",
              "2      Bengaluru  \n",
              "3      Bengaluru  \n",
              "4      Bengaluru  \n",
              "...          ...  \n",
              "2362  Coimbatore  \n",
              "2363  Coimbatore  \n",
              "2364  Coimbatore  \n",
              "2365  Coimbatore  \n",
              "2366  Coimbatore  \n",
              "\n",
              "[2367 rows x 3 columns]"
            ],
            "text/html": [
              "\n",
              "  <div id=\"df-949a4315-7f77-4233-9633-1390225ef016\">\n",
              "    <div class=\"colab-df-container\">\n",
              "      <div>\n",
              "<style scoped>\n",
              "    .dataframe tbody tr th:only-of-type {\n",
              "        vertical-align: middle;\n",
              "    }\n",
              "\n",
              "    .dataframe tbody tr th {\n",
              "        vertical-align: top;\n",
              "    }\n",
              "\n",
              "    .dataframe thead th {\n",
              "        text-align: right;\n",
              "    }\n",
              "</style>\n",
              "<table border=\"1\" class=\"dataframe\">\n",
              "  <thead>\n",
              "    <tr style=\"text-align: right;\">\n",
              "      <th></th>\n",
              "      <th>Unnamed: 0</th>\n",
              "      <th>description</th>\n",
              "      <th>value</th>\n",
              "    </tr>\n",
              "  </thead>\n",
              "  <tbody>\n",
              "    <tr>\n",
              "      <th>0</th>\n",
              "      <td>0.0</td>\n",
              "      <td>&lt;html&gt;&lt;body&gt;&lt;p&gt;Know how of Automotive Diagnosi...</td>\n",
              "      <td>Bengaluru</td>\n",
              "    </tr>\n",
              "    <tr>\n",
              "      <th>1</th>\n",
              "      <td>1.0</td>\n",
              "      <td>&lt;html&gt;&lt;body&gt;&lt;ul&gt;&lt;li&gt;&lt;p&gt;Total 4+ years of exper...</td>\n",
              "      <td>Bengaluru</td>\n",
              "    </tr>\n",
              "    <tr>\n",
              "      <th>2</th>\n",
              "      <td>2.0</td>\n",
              "      <td>&lt;html&gt;&lt;body&gt;&lt;ul&gt;&lt;li&gt;&lt;p&gt;Total of 8+ years of ex...</td>\n",
              "      <td>Bengaluru</td>\n",
              "    </tr>\n",
              "    <tr>\n",
              "      <th>3</th>\n",
              "      <td>3.0</td>\n",
              "      <td>&lt;html&gt;&lt;body&gt;&lt;p&gt;Work Experience : 8-12 years&lt;/p...</td>\n",
              "      <td>Bengaluru</td>\n",
              "    </tr>\n",
              "    <tr>\n",
              "      <th>4</th>\n",
              "      <td>4.0</td>\n",
              "      <td>&lt;html&gt;&lt;body&gt;&lt;p&gt;&lt;strong&gt;Job Description &lt;/stron...</td>\n",
              "      <td>Bengaluru</td>\n",
              "    </tr>\n",
              "    <tr>\n",
              "      <th>...</th>\n",
              "      <td>...</td>\n",
              "      <td>...</td>\n",
              "      <td>...</td>\n",
              "    </tr>\n",
              "    <tr>\n",
              "      <th>2362</th>\n",
              "      <td>2362.0</td>\n",
              "      <td>&lt;html&gt;&lt;body&gt;&lt;p&gt; &lt;/p&gt;&lt;p&gt;We are looking for cand...</td>\n",
              "      <td>Coimbatore</td>\n",
              "    </tr>\n",
              "    <tr>\n",
              "      <th>2363</th>\n",
              "      <td>2363.0</td>\n",
              "      <td>&lt;html&gt;&lt;body&gt;&lt;p&gt; &lt;/p&gt;&lt;p&gt;We are looking for cand...</td>\n",
              "      <td>Coimbatore</td>\n",
              "    </tr>\n",
              "    <tr>\n",
              "      <th>2364</th>\n",
              "      <td>2364.0</td>\n",
              "      <td>&lt;html&gt;&lt;body&gt;&lt;p&gt; &lt;/p&gt;&lt;p&gt;We are looking for cand...</td>\n",
              "      <td>Coimbatore</td>\n",
              "    </tr>\n",
              "    <tr>\n",
              "      <th>2365</th>\n",
              "      <td>2365.0</td>\n",
              "      <td>&lt;html&gt;&lt;body&gt;&lt;p&gt; &lt;/p&gt;&lt;p&gt;We are looking for cand...</td>\n",
              "      <td>Coimbatore</td>\n",
              "    </tr>\n",
              "    <tr>\n",
              "      <th>2366</th>\n",
              "      <td>2366.0</td>\n",
              "      <td>&lt;html&gt;&lt;body&gt;&lt;p&gt; &lt;/p&gt;&lt;p&gt;We are looking for cand...</td>\n",
              "      <td>Coimbatore</td>\n",
              "    </tr>\n",
              "  </tbody>\n",
              "</table>\n",
              "<p>2367 rows × 3 columns</p>\n",
              "</div>\n",
              "      <button class=\"colab-df-convert\" onclick=\"convertToInteractive('df-949a4315-7f77-4233-9633-1390225ef016')\"\n",
              "              title=\"Convert this dataframe to an interactive table.\"\n",
              "              style=\"display:none;\">\n",
              "        \n",
              "  <svg xmlns=\"http://www.w3.org/2000/svg\" height=\"24px\"viewBox=\"0 0 24 24\"\n",
              "       width=\"24px\">\n",
              "    <path d=\"M0 0h24v24H0V0z\" fill=\"none\"/>\n",
              "    <path d=\"M18.56 5.44l.94 2.06.94-2.06 2.06-.94-2.06-.94-.94-2.06-.94 2.06-2.06.94zm-11 1L8.5 8.5l.94-2.06 2.06-.94-2.06-.94L8.5 2.5l-.94 2.06-2.06.94zm10 10l.94 2.06.94-2.06 2.06-.94-2.06-.94-.94-2.06-.94 2.06-2.06.94z\"/><path d=\"M17.41 7.96l-1.37-1.37c-.4-.4-.92-.59-1.43-.59-.52 0-1.04.2-1.43.59L10.3 9.45l-7.72 7.72c-.78.78-.78 2.05 0 2.83L4 21.41c.39.39.9.59 1.41.59.51 0 1.02-.2 1.41-.59l7.78-7.78 2.81-2.81c.8-.78.8-2.07 0-2.86zM5.41 20L4 18.59l7.72-7.72 1.47 1.35L5.41 20z\"/>\n",
              "  </svg>\n",
              "      </button>\n",
              "      \n",
              "  <style>\n",
              "    .colab-df-container {\n",
              "      display:flex;\n",
              "      flex-wrap:wrap;\n",
              "      gap: 12px;\n",
              "    }\n",
              "\n",
              "    .colab-df-convert {\n",
              "      background-color: #E8F0FE;\n",
              "      border: none;\n",
              "      border-radius: 50%;\n",
              "      cursor: pointer;\n",
              "      display: none;\n",
              "      fill: #1967D2;\n",
              "      height: 32px;\n",
              "      padding: 0 0 0 0;\n",
              "      width: 32px;\n",
              "    }\n",
              "\n",
              "    .colab-df-convert:hover {\n",
              "      background-color: #E2EBFA;\n",
              "      box-shadow: 0px 1px 2px rgba(60, 64, 67, 0.3), 0px 1px 3px 1px rgba(60, 64, 67, 0.15);\n",
              "      fill: #174EA6;\n",
              "    }\n",
              "\n",
              "    [theme=dark] .colab-df-convert {\n",
              "      background-color: #3B4455;\n",
              "      fill: #D2E3FC;\n",
              "    }\n",
              "\n",
              "    [theme=dark] .colab-df-convert:hover {\n",
              "      background-color: #434B5C;\n",
              "      box-shadow: 0px 1px 3px 1px rgba(0, 0, 0, 0.15);\n",
              "      filter: drop-shadow(0px 1px 2px rgba(0, 0, 0, 0.3));\n",
              "      fill: #FFFFFF;\n",
              "    }\n",
              "  </style>\n",
              "\n",
              "      <script>\n",
              "        const buttonEl =\n",
              "          document.querySelector('#df-949a4315-7f77-4233-9633-1390225ef016 button.colab-df-convert');\n",
              "        buttonEl.style.display =\n",
              "          google.colab.kernel.accessAllowed ? 'block' : 'none';\n",
              "\n",
              "        async function convertToInteractive(key) {\n",
              "          const element = document.querySelector('#df-949a4315-7f77-4233-9633-1390225ef016');\n",
              "          const dataTable =\n",
              "            await google.colab.kernel.invokeFunction('convertToInteractive',\n",
              "                                                     [key], {});\n",
              "          if (!dataTable) return;\n",
              "\n",
              "          const docLinkHtml = 'Like what you see? Visit the ' +\n",
              "            '<a target=\"_blank\" href=https://colab.research.google.com/notebooks/data_table.ipynb>data table notebook</a>'\n",
              "            + ' to learn more about interactive tables.';\n",
              "          element.innerHTML = '';\n",
              "          dataTable['output_type'] = 'display_data';\n",
              "          await google.colab.output.renderOutput(dataTable, element);\n",
              "          const docLink = document.createElement('div');\n",
              "          docLink.innerHTML = docLinkHtml;\n",
              "          element.appendChild(docLink);\n",
              "        }\n",
              "      </script>\n",
              "    </div>\n",
              "  </div>\n",
              "  "
            ]
          },
          "metadata": {},
          "execution_count": 18
        }
      ]
    },
    {
      "cell_type": "code",
      "source": [
        "df.info()"
      ],
      "metadata": {
        "colab": {
          "base_uri": "https://localhost:8080/"
        },
        "id": "caypRnwg75jd",
        "outputId": "7f14c9cb-9ec7-4fc1-e6f7-9068f1087c47"
      },
      "execution_count": 19,
      "outputs": [
        {
          "output_type": "stream",
          "name": "stdout",
          "text": [
            "<class 'pandas.core.frame.DataFrame'>\n",
            "RangeIndex: 2367 entries, 0 to 2366\n",
            "Data columns (total 3 columns):\n",
            " #   Column       Non-Null Count  Dtype  \n",
            "---  ------       --------------  -----  \n",
            " 0   Unnamed: 0   2367 non-null   float64\n",
            " 1   description  2356 non-null   object \n",
            " 2   value        2367 non-null   object \n",
            "dtypes: float64(1), object(2)\n",
            "memory usage: 55.6+ KB\n"
          ]
        }
      ]
    },
    {
      "cell_type": "markdown",
      "source": [
        "checking null values"
      ],
      "metadata": {
        "id": "n1UCiztWKWq5"
      }
    },
    {
      "cell_type": "code",
      "source": [
        "df.isnull().sum()"
      ],
      "metadata": {
        "colab": {
          "base_uri": "https://localhost:8080/"
        },
        "id": "IOS5ATgF61F-",
        "outputId": "cbf38264-1e36-47e8-b682-5ab3b884b694"
      },
      "execution_count": 20,
      "outputs": [
        {
          "output_type": "execute_result",
          "data": {
            "text/plain": [
              "Unnamed: 0      0\n",
              "description    11\n",
              "value           0\n",
              "dtype: int64"
            ]
          },
          "metadata": {},
          "execution_count": 20
        }
      ]
    },
    {
      "cell_type": "markdown",
      "source": [
        "giving rename to  columns "
      ],
      "metadata": {
        "id": "FNX7MF6dKbUy"
      }
    },
    {
      "cell_type": "code",
      "source": [
        "df.rename(columns={'Unnamed: 0':'Serial Number','value':'City'}, inplace = True)"
      ],
      "metadata": {
        "id": "a_dSqsy464oz"
      },
      "execution_count": 21,
      "outputs": []
    },
    {
      "cell_type": "markdown",
      "source": [
        "dropping null column "
      ],
      "metadata": {
        "id": "gbsBbWfiKmDW"
      }
    },
    {
      "cell_type": "code",
      "source": [
        "df.dropna(inplace=True)"
      ],
      "metadata": {
        "id": "LdRxbe5G8eWE"
      },
      "execution_count": 22,
      "outputs": []
    },
    {
      "cell_type": "markdown",
      "source": [
        "displaying dataframe"
      ],
      "metadata": {
        "id": "MI-Y3IR2Kp6b"
      }
    },
    {
      "cell_type": "code",
      "source": [
        "df"
      ],
      "metadata": {
        "colab": {
          "base_uri": "https://localhost:8080/",
          "height": 424
        },
        "id": "Eltj-fCb-o0q",
        "outputId": "15e91ca1-3735-49a0-913a-706dc5bb06aa"
      },
      "execution_count": 23,
      "outputs": [
        {
          "output_type": "execute_result",
          "data": {
            "text/plain": [
              "      Serial Number                                        description  \\\n",
              "0               0.0  <html><body><p>Know how of Automotive Diagnosi...   \n",
              "1               1.0  <html><body><ul><li><p>Total 4+ years of exper...   \n",
              "2               2.0  <html><body><ul><li><p>Total of 8+ years of ex...   \n",
              "3               3.0  <html><body><p>Work Experience : 8-12 years</p...   \n",
              "4               4.0  <html><body><p><strong>Job Description </stron...   \n",
              "...             ...                                                ...   \n",
              "2362         2362.0  <html><body><p> </p><p>We are looking for cand...   \n",
              "2363         2363.0  <html><body><p> </p><p>We are looking for cand...   \n",
              "2364         2364.0  <html><body><p> </p><p>We are looking for cand...   \n",
              "2365         2365.0  <html><body><p> </p><p>We are looking for cand...   \n",
              "2366         2366.0  <html><body><p> </p><p>We are looking for cand...   \n",
              "\n",
              "            City  \n",
              "0      Bengaluru  \n",
              "1      Bengaluru  \n",
              "2      Bengaluru  \n",
              "3      Bengaluru  \n",
              "4      Bengaluru  \n",
              "...          ...  \n",
              "2362  Coimbatore  \n",
              "2363  Coimbatore  \n",
              "2364  Coimbatore  \n",
              "2365  Coimbatore  \n",
              "2366  Coimbatore  \n",
              "\n",
              "[2356 rows x 3 columns]"
            ],
            "text/html": [
              "\n",
              "  <div id=\"df-aaf8ca2f-32fe-41b3-b025-098f693eabe5\">\n",
              "    <div class=\"colab-df-container\">\n",
              "      <div>\n",
              "<style scoped>\n",
              "    .dataframe tbody tr th:only-of-type {\n",
              "        vertical-align: middle;\n",
              "    }\n",
              "\n",
              "    .dataframe tbody tr th {\n",
              "        vertical-align: top;\n",
              "    }\n",
              "\n",
              "    .dataframe thead th {\n",
              "        text-align: right;\n",
              "    }\n",
              "</style>\n",
              "<table border=\"1\" class=\"dataframe\">\n",
              "  <thead>\n",
              "    <tr style=\"text-align: right;\">\n",
              "      <th></th>\n",
              "      <th>Serial Number</th>\n",
              "      <th>description</th>\n",
              "      <th>City</th>\n",
              "    </tr>\n",
              "  </thead>\n",
              "  <tbody>\n",
              "    <tr>\n",
              "      <th>0</th>\n",
              "      <td>0.0</td>\n",
              "      <td>&lt;html&gt;&lt;body&gt;&lt;p&gt;Know how of Automotive Diagnosi...</td>\n",
              "      <td>Bengaluru</td>\n",
              "    </tr>\n",
              "    <tr>\n",
              "      <th>1</th>\n",
              "      <td>1.0</td>\n",
              "      <td>&lt;html&gt;&lt;body&gt;&lt;ul&gt;&lt;li&gt;&lt;p&gt;Total 4+ years of exper...</td>\n",
              "      <td>Bengaluru</td>\n",
              "    </tr>\n",
              "    <tr>\n",
              "      <th>2</th>\n",
              "      <td>2.0</td>\n",
              "      <td>&lt;html&gt;&lt;body&gt;&lt;ul&gt;&lt;li&gt;&lt;p&gt;Total of 8+ years of ex...</td>\n",
              "      <td>Bengaluru</td>\n",
              "    </tr>\n",
              "    <tr>\n",
              "      <th>3</th>\n",
              "      <td>3.0</td>\n",
              "      <td>&lt;html&gt;&lt;body&gt;&lt;p&gt;Work Experience : 8-12 years&lt;/p...</td>\n",
              "      <td>Bengaluru</td>\n",
              "    </tr>\n",
              "    <tr>\n",
              "      <th>4</th>\n",
              "      <td>4.0</td>\n",
              "      <td>&lt;html&gt;&lt;body&gt;&lt;p&gt;&lt;strong&gt;Job Description &lt;/stron...</td>\n",
              "      <td>Bengaluru</td>\n",
              "    </tr>\n",
              "    <tr>\n",
              "      <th>...</th>\n",
              "      <td>...</td>\n",
              "      <td>...</td>\n",
              "      <td>...</td>\n",
              "    </tr>\n",
              "    <tr>\n",
              "      <th>2362</th>\n",
              "      <td>2362.0</td>\n",
              "      <td>&lt;html&gt;&lt;body&gt;&lt;p&gt; &lt;/p&gt;&lt;p&gt;We are looking for cand...</td>\n",
              "      <td>Coimbatore</td>\n",
              "    </tr>\n",
              "    <tr>\n",
              "      <th>2363</th>\n",
              "      <td>2363.0</td>\n",
              "      <td>&lt;html&gt;&lt;body&gt;&lt;p&gt; &lt;/p&gt;&lt;p&gt;We are looking for cand...</td>\n",
              "      <td>Coimbatore</td>\n",
              "    </tr>\n",
              "    <tr>\n",
              "      <th>2364</th>\n",
              "      <td>2364.0</td>\n",
              "      <td>&lt;html&gt;&lt;body&gt;&lt;p&gt; &lt;/p&gt;&lt;p&gt;We are looking for cand...</td>\n",
              "      <td>Coimbatore</td>\n",
              "    </tr>\n",
              "    <tr>\n",
              "      <th>2365</th>\n",
              "      <td>2365.0</td>\n",
              "      <td>&lt;html&gt;&lt;body&gt;&lt;p&gt; &lt;/p&gt;&lt;p&gt;We are looking for cand...</td>\n",
              "      <td>Coimbatore</td>\n",
              "    </tr>\n",
              "    <tr>\n",
              "      <th>2366</th>\n",
              "      <td>2366.0</td>\n",
              "      <td>&lt;html&gt;&lt;body&gt;&lt;p&gt; &lt;/p&gt;&lt;p&gt;We are looking for cand...</td>\n",
              "      <td>Coimbatore</td>\n",
              "    </tr>\n",
              "  </tbody>\n",
              "</table>\n",
              "<p>2356 rows × 3 columns</p>\n",
              "</div>\n",
              "      <button class=\"colab-df-convert\" onclick=\"convertToInteractive('df-aaf8ca2f-32fe-41b3-b025-098f693eabe5')\"\n",
              "              title=\"Convert this dataframe to an interactive table.\"\n",
              "              style=\"display:none;\">\n",
              "        \n",
              "  <svg xmlns=\"http://www.w3.org/2000/svg\" height=\"24px\"viewBox=\"0 0 24 24\"\n",
              "       width=\"24px\">\n",
              "    <path d=\"M0 0h24v24H0V0z\" fill=\"none\"/>\n",
              "    <path d=\"M18.56 5.44l.94 2.06.94-2.06 2.06-.94-2.06-.94-.94-2.06-.94 2.06-2.06.94zm-11 1L8.5 8.5l.94-2.06 2.06-.94-2.06-.94L8.5 2.5l-.94 2.06-2.06.94zm10 10l.94 2.06.94-2.06 2.06-.94-2.06-.94-.94-2.06-.94 2.06-2.06.94z\"/><path d=\"M17.41 7.96l-1.37-1.37c-.4-.4-.92-.59-1.43-.59-.52 0-1.04.2-1.43.59L10.3 9.45l-7.72 7.72c-.78.78-.78 2.05 0 2.83L4 21.41c.39.39.9.59 1.41.59.51 0 1.02-.2 1.41-.59l7.78-7.78 2.81-2.81c.8-.78.8-2.07 0-2.86zM5.41 20L4 18.59l7.72-7.72 1.47 1.35L5.41 20z\"/>\n",
              "  </svg>\n",
              "      </button>\n",
              "      \n",
              "  <style>\n",
              "    .colab-df-container {\n",
              "      display:flex;\n",
              "      flex-wrap:wrap;\n",
              "      gap: 12px;\n",
              "    }\n",
              "\n",
              "    .colab-df-convert {\n",
              "      background-color: #E8F0FE;\n",
              "      border: none;\n",
              "      border-radius: 50%;\n",
              "      cursor: pointer;\n",
              "      display: none;\n",
              "      fill: #1967D2;\n",
              "      height: 32px;\n",
              "      padding: 0 0 0 0;\n",
              "      width: 32px;\n",
              "    }\n",
              "\n",
              "    .colab-df-convert:hover {\n",
              "      background-color: #E2EBFA;\n",
              "      box-shadow: 0px 1px 2px rgba(60, 64, 67, 0.3), 0px 1px 3px 1px rgba(60, 64, 67, 0.15);\n",
              "      fill: #174EA6;\n",
              "    }\n",
              "\n",
              "    [theme=dark] .colab-df-convert {\n",
              "      background-color: #3B4455;\n",
              "      fill: #D2E3FC;\n",
              "    }\n",
              "\n",
              "    [theme=dark] .colab-df-convert:hover {\n",
              "      background-color: #434B5C;\n",
              "      box-shadow: 0px 1px 3px 1px rgba(0, 0, 0, 0.15);\n",
              "      filter: drop-shadow(0px 1px 2px rgba(0, 0, 0, 0.3));\n",
              "      fill: #FFFFFF;\n",
              "    }\n",
              "  </style>\n",
              "\n",
              "      <script>\n",
              "        const buttonEl =\n",
              "          document.querySelector('#df-aaf8ca2f-32fe-41b3-b025-098f693eabe5 button.colab-df-convert');\n",
              "        buttonEl.style.display =\n",
              "          google.colab.kernel.accessAllowed ? 'block' : 'none';\n",
              "\n",
              "        async function convertToInteractive(key) {\n",
              "          const element = document.querySelector('#df-aaf8ca2f-32fe-41b3-b025-098f693eabe5');\n",
              "          const dataTable =\n",
              "            await google.colab.kernel.invokeFunction('convertToInteractive',\n",
              "                                                     [key], {});\n",
              "          if (!dataTable) return;\n",
              "\n",
              "          const docLinkHtml = 'Like what you see? Visit the ' +\n",
              "            '<a target=\"_blank\" href=https://colab.research.google.com/notebooks/data_table.ipynb>data table notebook</a>'\n",
              "            + ' to learn more about interactive tables.';\n",
              "          element.innerHTML = '';\n",
              "          dataTable['output_type'] = 'display_data';\n",
              "          await google.colab.output.renderOutput(dataTable, element);\n",
              "          const docLink = document.createElement('div');\n",
              "          docLink.innerHTML = docLinkHtml;\n",
              "          element.appendChild(docLink);\n",
              "        }\n",
              "      </script>\n",
              "    </div>\n",
              "  </div>\n",
              "  "
            ]
          },
          "metadata": {},
          "execution_count": 23
        }
      ]
    },
    {
      "cell_type": "markdown",
      "source": [
        "display first 50 rows"
      ],
      "metadata": {
        "id": "cAbBKeB5KtzY"
      }
    },
    {
      "cell_type": "code",
      "source": [
        "df.head(50)"
      ],
      "metadata": {
        "colab": {
          "base_uri": "https://localhost:8080/",
          "height": 1000
        },
        "id": "8ii5XW0z-zzF",
        "outputId": "ad3f19e4-6314-41b3-a482-8ddf1a8c1e0e"
      },
      "execution_count": 24,
      "outputs": [
        {
          "output_type": "execute_result",
          "data": {
            "text/plain": [
              "    Serial Number                                        description  \\\n",
              "0             0.0  <html><body><p>Know how of Automotive Diagnosi...   \n",
              "1             1.0  <html><body><ul><li><p>Total 4+ years of exper...   \n",
              "2             2.0  <html><body><ul><li><p>Total of 8+ years of ex...   \n",
              "3             3.0  <html><body><p>Work Experience : 8-12 years</p...   \n",
              "4             4.0  <html><body><p><strong>Job Description </stron...   \n",
              "5             5.0  <html><body><p>Experience in programming Embed...   \n",
              "6             6.0  <html><body><p>•Feature/Subsystem ownership in...   \n",
              "7             7.0  <html><body><p>The PCM is responsible for the ...   \n",
              "8             8.0  <html><body><p><strong><u>Tasks</u></strong></...   \n",
              "9             9.0  <html><body><p>•Feature/Subsystem ownership in...   \n",
              "10           10.0  <html><body><p><strong>Responsibilities: </str...   \n",
              "11           11.0  <html><body><p>Mandatory Skills:</p><p>• Hands...   \n",
              "12           12.0  <html><body><ul><li>Support varied system Engi...   \n",
              "13           13.0  <html><body><ul><li>Hands-on experience in SW ...   \n",
              "14           14.0  <html><body><p><strong>About Video Project:</s...   \n",
              "15           15.0  <html><body><p>•Feature/Subsystem ownership in...   \n",
              "16           16.0  <html><body><p>Experience in programming Embed...   \n",
              "17           17.0  <html><body><p><strong>Expected Scope of work ...   \n",
              "18           18.0  <html><body><p>ADAS System Tools Specialist</p...   \n",
              "20           20.0  <html><body><ul><li>Responsible for SW require...   \n",
              "21           21.0  <html><body><ul><li>Design and Develop benchma...   \n",
              "22           22.0  <html><body><ol><li>A software architect needs...   \n",
              "23           23.0  <html><body><p>Must have minimum 5 to 6 years ...   \n",
              "24           24.0  <html><body><p>Function developer role involve...   \n",
              "25           25.0  <html><body><p><strong>Job Description:</stron...   \n",
              "26           26.0  <html><body><p>1. Application engineering of B...   \n",
              "27           27.0  <html><body><p>Must have minimum 5 to 6 years ...   \n",
              "28           28.0  <html><body><p>Job Description</p><p><strong>T...   \n",
              "29           29.0  <html><body><p>Conceptualize, document and com...   \n",
              "30           30.0  <html><body><p><strong>About Video Project:</s...   \n",
              "31           31.0  <html><body><p>Hands-on experience in Git &amp...   \n",
              "32           32.0  <html><body><p>• Strong knowledge on C++<br/>•...   \n",
              "33           33.0  <html><body><p> Modern vehicles have a diagnos...   \n",
              "34           34.0  <html><body><p><strong>Roles &amp; Responsibil...   \n",
              "35           35.0  <html><body><p>Job Descriptions .<br/>The soft...   \n",
              "36           36.0  <html><body><p><strong><u>Tasks</u></strong></...   \n",
              "37           37.0  <html><body><p>We are looking for a highly mot...   \n",
              "38           38.0  <html><body><p><strong><em><u>Mandatory Compet...   \n",
              "39           39.0  <html><body><p>Hands on software development e...   \n",
              "40           40.0  <html><body><p>Experience in programming Embed...   \n",
              "41           41.0  <html><body><p>Expertise in embedded C softwar...   \n",
              "42           42.0  <html><body><ul><li>Experience on Agile Method...   \n",
              "43           43.0  <html><body><p>Knowledge on <strong>Python</st...   \n",
              "44           44.0  <html><body><p>Responsible for developing cont...   \n",
              "45           45.0  <html><body><p><strong>Job Description:</stron...   \n",
              "46           46.0  <html><body><p>•Feature/Subsystem ownership in...   \n",
              "47           47.0  <html><body><p>\"DEM-SSP PR\" role involved in S...   \n",
              "48           48.0  <html><body><p><strong>Mandatory Competencies<...   \n",
              "49           49.0  <html><body><p>We are looking for motivated pr...   \n",
              "50           50.0  <html><body><ul><li>Development and maintenanc...   \n",
              "\n",
              "          City  \n",
              "0    Bengaluru  \n",
              "1    Bengaluru  \n",
              "2    Bengaluru  \n",
              "3    Bengaluru  \n",
              "4    Bengaluru  \n",
              "5    Bengaluru  \n",
              "6    Bengaluru  \n",
              "7    Bengaluru  \n",
              "8    Bengaluru  \n",
              "9    Bengaluru  \n",
              "10   Bengaluru  \n",
              "11   Bengaluru  \n",
              "12   Bengaluru  \n",
              "13   Bengaluru  \n",
              "14   Bengaluru  \n",
              "15   Bengaluru  \n",
              "16   Bengaluru  \n",
              "17   Bengaluru  \n",
              "18   Bengaluru  \n",
              "20   Bengaluru  \n",
              "21   Bengaluru  \n",
              "22   Bengaluru  \n",
              "23  Coimbatore  \n",
              "24   Bengaluru  \n",
              "25   bangalore  \n",
              "26   Bangalore  \n",
              "27   Bengaluru  \n",
              "28   Bengaluru  \n",
              "29   Bengaluru  \n",
              "30   Bengaluru  \n",
              "31   Bengaluru  \n",
              "32   Bengaluru  \n",
              "33  Coimbatore  \n",
              "34   Bengaluru  \n",
              "35   Bengaluru  \n",
              "36   Bengaluru  \n",
              "37   Bengaluru  \n",
              "38   Bengaluru  \n",
              "39   Bengaluru  \n",
              "40  Coimbatore  \n",
              "41   Bengaluru  \n",
              "42   Bengaluru  \n",
              "43   Bengaluru  \n",
              "44   Bengaluru  \n",
              "45   Bengaluru  \n",
              "46   Bengaluru  \n",
              "47   Bengaluru  \n",
              "48   Bengaluru  \n",
              "49   Bengaluru  \n",
              "50   Bengaluru  "
            ],
            "text/html": [
              "\n",
              "  <div id=\"df-f83be123-3cba-4097-b19a-8b940cde942d\">\n",
              "    <div class=\"colab-df-container\">\n",
              "      <div>\n",
              "<style scoped>\n",
              "    .dataframe tbody tr th:only-of-type {\n",
              "        vertical-align: middle;\n",
              "    }\n",
              "\n",
              "    .dataframe tbody tr th {\n",
              "        vertical-align: top;\n",
              "    }\n",
              "\n",
              "    .dataframe thead th {\n",
              "        text-align: right;\n",
              "    }\n",
              "</style>\n",
              "<table border=\"1\" class=\"dataframe\">\n",
              "  <thead>\n",
              "    <tr style=\"text-align: right;\">\n",
              "      <th></th>\n",
              "      <th>Serial Number</th>\n",
              "      <th>description</th>\n",
              "      <th>City</th>\n",
              "    </tr>\n",
              "  </thead>\n",
              "  <tbody>\n",
              "    <tr>\n",
              "      <th>0</th>\n",
              "      <td>0.0</td>\n",
              "      <td>&lt;html&gt;&lt;body&gt;&lt;p&gt;Know how of Automotive Diagnosi...</td>\n",
              "      <td>Bengaluru</td>\n",
              "    </tr>\n",
              "    <tr>\n",
              "      <th>1</th>\n",
              "      <td>1.0</td>\n",
              "      <td>&lt;html&gt;&lt;body&gt;&lt;ul&gt;&lt;li&gt;&lt;p&gt;Total 4+ years of exper...</td>\n",
              "      <td>Bengaluru</td>\n",
              "    </tr>\n",
              "    <tr>\n",
              "      <th>2</th>\n",
              "      <td>2.0</td>\n",
              "      <td>&lt;html&gt;&lt;body&gt;&lt;ul&gt;&lt;li&gt;&lt;p&gt;Total of 8+ years of ex...</td>\n",
              "      <td>Bengaluru</td>\n",
              "    </tr>\n",
              "    <tr>\n",
              "      <th>3</th>\n",
              "      <td>3.0</td>\n",
              "      <td>&lt;html&gt;&lt;body&gt;&lt;p&gt;Work Experience : 8-12 years&lt;/p...</td>\n",
              "      <td>Bengaluru</td>\n",
              "    </tr>\n",
              "    <tr>\n",
              "      <th>4</th>\n",
              "      <td>4.0</td>\n",
              "      <td>&lt;html&gt;&lt;body&gt;&lt;p&gt;&lt;strong&gt;Job Description &lt;/stron...</td>\n",
              "      <td>Bengaluru</td>\n",
              "    </tr>\n",
              "    <tr>\n",
              "      <th>5</th>\n",
              "      <td>5.0</td>\n",
              "      <td>&lt;html&gt;&lt;body&gt;&lt;p&gt;Experience in programming Embed...</td>\n",
              "      <td>Bengaluru</td>\n",
              "    </tr>\n",
              "    <tr>\n",
              "      <th>6</th>\n",
              "      <td>6.0</td>\n",
              "      <td>&lt;html&gt;&lt;body&gt;&lt;p&gt;•Feature/Subsystem ownership in...</td>\n",
              "      <td>Bengaluru</td>\n",
              "    </tr>\n",
              "    <tr>\n",
              "      <th>7</th>\n",
              "      <td>7.0</td>\n",
              "      <td>&lt;html&gt;&lt;body&gt;&lt;p&gt;The PCM is responsible for the ...</td>\n",
              "      <td>Bengaluru</td>\n",
              "    </tr>\n",
              "    <tr>\n",
              "      <th>8</th>\n",
              "      <td>8.0</td>\n",
              "      <td>&lt;html&gt;&lt;body&gt;&lt;p&gt;&lt;strong&gt;&lt;u&gt;Tasks&lt;/u&gt;&lt;/strong&gt;&lt;/...</td>\n",
              "      <td>Bengaluru</td>\n",
              "    </tr>\n",
              "    <tr>\n",
              "      <th>9</th>\n",
              "      <td>9.0</td>\n",
              "      <td>&lt;html&gt;&lt;body&gt;&lt;p&gt;•Feature/Subsystem ownership in...</td>\n",
              "      <td>Bengaluru</td>\n",
              "    </tr>\n",
              "    <tr>\n",
              "      <th>10</th>\n",
              "      <td>10.0</td>\n",
              "      <td>&lt;html&gt;&lt;body&gt;&lt;p&gt;&lt;strong&gt;Responsibilities: &lt;/str...</td>\n",
              "      <td>Bengaluru</td>\n",
              "    </tr>\n",
              "    <tr>\n",
              "      <th>11</th>\n",
              "      <td>11.0</td>\n",
              "      <td>&lt;html&gt;&lt;body&gt;&lt;p&gt;Mandatory Skills:&lt;/p&gt;&lt;p&gt;• Hands...</td>\n",
              "      <td>Bengaluru</td>\n",
              "    </tr>\n",
              "    <tr>\n",
              "      <th>12</th>\n",
              "      <td>12.0</td>\n",
              "      <td>&lt;html&gt;&lt;body&gt;&lt;ul&gt;&lt;li&gt;Support varied system Engi...</td>\n",
              "      <td>Bengaluru</td>\n",
              "    </tr>\n",
              "    <tr>\n",
              "      <th>13</th>\n",
              "      <td>13.0</td>\n",
              "      <td>&lt;html&gt;&lt;body&gt;&lt;ul&gt;&lt;li&gt;Hands-on experience in SW ...</td>\n",
              "      <td>Bengaluru</td>\n",
              "    </tr>\n",
              "    <tr>\n",
              "      <th>14</th>\n",
              "      <td>14.0</td>\n",
              "      <td>&lt;html&gt;&lt;body&gt;&lt;p&gt;&lt;strong&gt;About Video Project:&lt;/s...</td>\n",
              "      <td>Bengaluru</td>\n",
              "    </tr>\n",
              "    <tr>\n",
              "      <th>15</th>\n",
              "      <td>15.0</td>\n",
              "      <td>&lt;html&gt;&lt;body&gt;&lt;p&gt;•Feature/Subsystem ownership in...</td>\n",
              "      <td>Bengaluru</td>\n",
              "    </tr>\n",
              "    <tr>\n",
              "      <th>16</th>\n",
              "      <td>16.0</td>\n",
              "      <td>&lt;html&gt;&lt;body&gt;&lt;p&gt;Experience in programming Embed...</td>\n",
              "      <td>Bengaluru</td>\n",
              "    </tr>\n",
              "    <tr>\n",
              "      <th>17</th>\n",
              "      <td>17.0</td>\n",
              "      <td>&lt;html&gt;&lt;body&gt;&lt;p&gt;&lt;strong&gt;Expected Scope of work ...</td>\n",
              "      <td>Bengaluru</td>\n",
              "    </tr>\n",
              "    <tr>\n",
              "      <th>18</th>\n",
              "      <td>18.0</td>\n",
              "      <td>&lt;html&gt;&lt;body&gt;&lt;p&gt;ADAS System Tools Specialist&lt;/p...</td>\n",
              "      <td>Bengaluru</td>\n",
              "    </tr>\n",
              "    <tr>\n",
              "      <th>20</th>\n",
              "      <td>20.0</td>\n",
              "      <td>&lt;html&gt;&lt;body&gt;&lt;ul&gt;&lt;li&gt;Responsible for SW require...</td>\n",
              "      <td>Bengaluru</td>\n",
              "    </tr>\n",
              "    <tr>\n",
              "      <th>21</th>\n",
              "      <td>21.0</td>\n",
              "      <td>&lt;html&gt;&lt;body&gt;&lt;ul&gt;&lt;li&gt;Design and Develop benchma...</td>\n",
              "      <td>Bengaluru</td>\n",
              "    </tr>\n",
              "    <tr>\n",
              "      <th>22</th>\n",
              "      <td>22.0</td>\n",
              "      <td>&lt;html&gt;&lt;body&gt;&lt;ol&gt;&lt;li&gt;A software architect needs...</td>\n",
              "      <td>Bengaluru</td>\n",
              "    </tr>\n",
              "    <tr>\n",
              "      <th>23</th>\n",
              "      <td>23.0</td>\n",
              "      <td>&lt;html&gt;&lt;body&gt;&lt;p&gt;Must have minimum 5 to 6 years ...</td>\n",
              "      <td>Coimbatore</td>\n",
              "    </tr>\n",
              "    <tr>\n",
              "      <th>24</th>\n",
              "      <td>24.0</td>\n",
              "      <td>&lt;html&gt;&lt;body&gt;&lt;p&gt;Function developer role involve...</td>\n",
              "      <td>Bengaluru</td>\n",
              "    </tr>\n",
              "    <tr>\n",
              "      <th>25</th>\n",
              "      <td>25.0</td>\n",
              "      <td>&lt;html&gt;&lt;body&gt;&lt;p&gt;&lt;strong&gt;Job Description:&lt;/stron...</td>\n",
              "      <td>bangalore</td>\n",
              "    </tr>\n",
              "    <tr>\n",
              "      <th>26</th>\n",
              "      <td>26.0</td>\n",
              "      <td>&lt;html&gt;&lt;body&gt;&lt;p&gt;1. Application engineering of B...</td>\n",
              "      <td>Bangalore</td>\n",
              "    </tr>\n",
              "    <tr>\n",
              "      <th>27</th>\n",
              "      <td>27.0</td>\n",
              "      <td>&lt;html&gt;&lt;body&gt;&lt;p&gt;Must have minimum 5 to 6 years ...</td>\n",
              "      <td>Bengaluru</td>\n",
              "    </tr>\n",
              "    <tr>\n",
              "      <th>28</th>\n",
              "      <td>28.0</td>\n",
              "      <td>&lt;html&gt;&lt;body&gt;&lt;p&gt;Job Description&lt;/p&gt;&lt;p&gt;&lt;strong&gt;T...</td>\n",
              "      <td>Bengaluru</td>\n",
              "    </tr>\n",
              "    <tr>\n",
              "      <th>29</th>\n",
              "      <td>29.0</td>\n",
              "      <td>&lt;html&gt;&lt;body&gt;&lt;p&gt;Conceptualize, document and com...</td>\n",
              "      <td>Bengaluru</td>\n",
              "    </tr>\n",
              "    <tr>\n",
              "      <th>30</th>\n",
              "      <td>30.0</td>\n",
              "      <td>&lt;html&gt;&lt;body&gt;&lt;p&gt;&lt;strong&gt;About Video Project:&lt;/s...</td>\n",
              "      <td>Bengaluru</td>\n",
              "    </tr>\n",
              "    <tr>\n",
              "      <th>31</th>\n",
              "      <td>31.0</td>\n",
              "      <td>&lt;html&gt;&lt;body&gt;&lt;p&gt;Hands-on experience in Git &amp;amp...</td>\n",
              "      <td>Bengaluru</td>\n",
              "    </tr>\n",
              "    <tr>\n",
              "      <th>32</th>\n",
              "      <td>32.0</td>\n",
              "      <td>&lt;html&gt;&lt;body&gt;&lt;p&gt;• Strong knowledge on C++&lt;br/&gt;•...</td>\n",
              "      <td>Bengaluru</td>\n",
              "    </tr>\n",
              "    <tr>\n",
              "      <th>33</th>\n",
              "      <td>33.0</td>\n",
              "      <td>&lt;html&gt;&lt;body&gt;&lt;p&gt; Modern vehicles have a diagnos...</td>\n",
              "      <td>Coimbatore</td>\n",
              "    </tr>\n",
              "    <tr>\n",
              "      <th>34</th>\n",
              "      <td>34.0</td>\n",
              "      <td>&lt;html&gt;&lt;body&gt;&lt;p&gt;&lt;strong&gt;Roles &amp;amp; Responsibil...</td>\n",
              "      <td>Bengaluru</td>\n",
              "    </tr>\n",
              "    <tr>\n",
              "      <th>35</th>\n",
              "      <td>35.0</td>\n",
              "      <td>&lt;html&gt;&lt;body&gt;&lt;p&gt;Job Descriptions .&lt;br/&gt;The soft...</td>\n",
              "      <td>Bengaluru</td>\n",
              "    </tr>\n",
              "    <tr>\n",
              "      <th>36</th>\n",
              "      <td>36.0</td>\n",
              "      <td>&lt;html&gt;&lt;body&gt;&lt;p&gt;&lt;strong&gt;&lt;u&gt;Tasks&lt;/u&gt;&lt;/strong&gt;&lt;/...</td>\n",
              "      <td>Bengaluru</td>\n",
              "    </tr>\n",
              "    <tr>\n",
              "      <th>37</th>\n",
              "      <td>37.0</td>\n",
              "      <td>&lt;html&gt;&lt;body&gt;&lt;p&gt;We are looking for a highly mot...</td>\n",
              "      <td>Bengaluru</td>\n",
              "    </tr>\n",
              "    <tr>\n",
              "      <th>38</th>\n",
              "      <td>38.0</td>\n",
              "      <td>&lt;html&gt;&lt;body&gt;&lt;p&gt;&lt;strong&gt;&lt;em&gt;&lt;u&gt;Mandatory Compet...</td>\n",
              "      <td>Bengaluru</td>\n",
              "    </tr>\n",
              "    <tr>\n",
              "      <th>39</th>\n",
              "      <td>39.0</td>\n",
              "      <td>&lt;html&gt;&lt;body&gt;&lt;p&gt;Hands on software development e...</td>\n",
              "      <td>Bengaluru</td>\n",
              "    </tr>\n",
              "    <tr>\n",
              "      <th>40</th>\n",
              "      <td>40.0</td>\n",
              "      <td>&lt;html&gt;&lt;body&gt;&lt;p&gt;Experience in programming Embed...</td>\n",
              "      <td>Coimbatore</td>\n",
              "    </tr>\n",
              "    <tr>\n",
              "      <th>41</th>\n",
              "      <td>41.0</td>\n",
              "      <td>&lt;html&gt;&lt;body&gt;&lt;p&gt;Expertise in embedded C softwar...</td>\n",
              "      <td>Bengaluru</td>\n",
              "    </tr>\n",
              "    <tr>\n",
              "      <th>42</th>\n",
              "      <td>42.0</td>\n",
              "      <td>&lt;html&gt;&lt;body&gt;&lt;ul&gt;&lt;li&gt;Experience on Agile Method...</td>\n",
              "      <td>Bengaluru</td>\n",
              "    </tr>\n",
              "    <tr>\n",
              "      <th>43</th>\n",
              "      <td>43.0</td>\n",
              "      <td>&lt;html&gt;&lt;body&gt;&lt;p&gt;Knowledge on &lt;strong&gt;Python&lt;/st...</td>\n",
              "      <td>Bengaluru</td>\n",
              "    </tr>\n",
              "    <tr>\n",
              "      <th>44</th>\n",
              "      <td>44.0</td>\n",
              "      <td>&lt;html&gt;&lt;body&gt;&lt;p&gt;Responsible for developing cont...</td>\n",
              "      <td>Bengaluru</td>\n",
              "    </tr>\n",
              "    <tr>\n",
              "      <th>45</th>\n",
              "      <td>45.0</td>\n",
              "      <td>&lt;html&gt;&lt;body&gt;&lt;p&gt;&lt;strong&gt;Job Description:&lt;/stron...</td>\n",
              "      <td>Bengaluru</td>\n",
              "    </tr>\n",
              "    <tr>\n",
              "      <th>46</th>\n",
              "      <td>46.0</td>\n",
              "      <td>&lt;html&gt;&lt;body&gt;&lt;p&gt;•Feature/Subsystem ownership in...</td>\n",
              "      <td>Bengaluru</td>\n",
              "    </tr>\n",
              "    <tr>\n",
              "      <th>47</th>\n",
              "      <td>47.0</td>\n",
              "      <td>&lt;html&gt;&lt;body&gt;&lt;p&gt;\"DEM-SSP PR\" role involved in S...</td>\n",
              "      <td>Bengaluru</td>\n",
              "    </tr>\n",
              "    <tr>\n",
              "      <th>48</th>\n",
              "      <td>48.0</td>\n",
              "      <td>&lt;html&gt;&lt;body&gt;&lt;p&gt;&lt;strong&gt;Mandatory Competencies&lt;...</td>\n",
              "      <td>Bengaluru</td>\n",
              "    </tr>\n",
              "    <tr>\n",
              "      <th>49</th>\n",
              "      <td>49.0</td>\n",
              "      <td>&lt;html&gt;&lt;body&gt;&lt;p&gt;We are looking for motivated pr...</td>\n",
              "      <td>Bengaluru</td>\n",
              "    </tr>\n",
              "    <tr>\n",
              "      <th>50</th>\n",
              "      <td>50.0</td>\n",
              "      <td>&lt;html&gt;&lt;body&gt;&lt;ul&gt;&lt;li&gt;Development and maintenanc...</td>\n",
              "      <td>Bengaluru</td>\n",
              "    </tr>\n",
              "  </tbody>\n",
              "</table>\n",
              "</div>\n",
              "      <button class=\"colab-df-convert\" onclick=\"convertToInteractive('df-f83be123-3cba-4097-b19a-8b940cde942d')\"\n",
              "              title=\"Convert this dataframe to an interactive table.\"\n",
              "              style=\"display:none;\">\n",
              "        \n",
              "  <svg xmlns=\"http://www.w3.org/2000/svg\" height=\"24px\"viewBox=\"0 0 24 24\"\n",
              "       width=\"24px\">\n",
              "    <path d=\"M0 0h24v24H0V0z\" fill=\"none\"/>\n",
              "    <path d=\"M18.56 5.44l.94 2.06.94-2.06 2.06-.94-2.06-.94-.94-2.06-.94 2.06-2.06.94zm-11 1L8.5 8.5l.94-2.06 2.06-.94-2.06-.94L8.5 2.5l-.94 2.06-2.06.94zm10 10l.94 2.06.94-2.06 2.06-.94-2.06-.94-.94-2.06-.94 2.06-2.06.94z\"/><path d=\"M17.41 7.96l-1.37-1.37c-.4-.4-.92-.59-1.43-.59-.52 0-1.04.2-1.43.59L10.3 9.45l-7.72 7.72c-.78.78-.78 2.05 0 2.83L4 21.41c.39.39.9.59 1.41.59.51 0 1.02-.2 1.41-.59l7.78-7.78 2.81-2.81c.8-.78.8-2.07 0-2.86zM5.41 20L4 18.59l7.72-7.72 1.47 1.35L5.41 20z\"/>\n",
              "  </svg>\n",
              "      </button>\n",
              "      \n",
              "  <style>\n",
              "    .colab-df-container {\n",
              "      display:flex;\n",
              "      flex-wrap:wrap;\n",
              "      gap: 12px;\n",
              "    }\n",
              "\n",
              "    .colab-df-convert {\n",
              "      background-color: #E8F0FE;\n",
              "      border: none;\n",
              "      border-radius: 50%;\n",
              "      cursor: pointer;\n",
              "      display: none;\n",
              "      fill: #1967D2;\n",
              "      height: 32px;\n",
              "      padding: 0 0 0 0;\n",
              "      width: 32px;\n",
              "    }\n",
              "\n",
              "    .colab-df-convert:hover {\n",
              "      background-color: #E2EBFA;\n",
              "      box-shadow: 0px 1px 2px rgba(60, 64, 67, 0.3), 0px 1px 3px 1px rgba(60, 64, 67, 0.15);\n",
              "      fill: #174EA6;\n",
              "    }\n",
              "\n",
              "    [theme=dark] .colab-df-convert {\n",
              "      background-color: #3B4455;\n",
              "      fill: #D2E3FC;\n",
              "    }\n",
              "\n",
              "    [theme=dark] .colab-df-convert:hover {\n",
              "      background-color: #434B5C;\n",
              "      box-shadow: 0px 1px 3px 1px rgba(0, 0, 0, 0.15);\n",
              "      filter: drop-shadow(0px 1px 2px rgba(0, 0, 0, 0.3));\n",
              "      fill: #FFFFFF;\n",
              "    }\n",
              "  </style>\n",
              "\n",
              "      <script>\n",
              "        const buttonEl =\n",
              "          document.querySelector('#df-f83be123-3cba-4097-b19a-8b940cde942d button.colab-df-convert');\n",
              "        buttonEl.style.display =\n",
              "          google.colab.kernel.accessAllowed ? 'block' : 'none';\n",
              "\n",
              "        async function convertToInteractive(key) {\n",
              "          const element = document.querySelector('#df-f83be123-3cba-4097-b19a-8b940cde942d');\n",
              "          const dataTable =\n",
              "            await google.colab.kernel.invokeFunction('convertToInteractive',\n",
              "                                                     [key], {});\n",
              "          if (!dataTable) return;\n",
              "\n",
              "          const docLinkHtml = 'Like what you see? Visit the ' +\n",
              "            '<a target=\"_blank\" href=https://colab.research.google.com/notebooks/data_table.ipynb>data table notebook</a>'\n",
              "            + ' to learn more about interactive tables.';\n",
              "          element.innerHTML = '';\n",
              "          dataTable['output_type'] = 'display_data';\n",
              "          await google.colab.output.renderOutput(dataTable, element);\n",
              "          const docLink = document.createElement('div');\n",
              "          docLink.innerHTML = docLinkHtml;\n",
              "          element.appendChild(docLink);\n",
              "        }\n",
              "      </script>\n",
              "    </div>\n",
              "  </div>\n",
              "  "
            ]
          },
          "metadata": {},
          "execution_count": 24
        }
      ]
    },
    {
      "cell_type": "markdown",
      "source": [
        "checking null values"
      ],
      "metadata": {
        "id": "3LRR1zhCKzBn"
      }
    },
    {
      "cell_type": "code",
      "source": [
        "df.isnull().sum()"
      ],
      "metadata": {
        "colab": {
          "base_uri": "https://localhost:8080/"
        },
        "id": "XE_jPYEa_D6n",
        "outputId": "6376a462-f5f9-4528-b003-b48ae29695fd"
      },
      "execution_count": 25,
      "outputs": [
        {
          "output_type": "execute_result",
          "data": {
            "text/plain": [
              "Serial Number    0\n",
              "description      0\n",
              "City             0\n",
              "dtype: int64"
            ]
          },
          "metadata": {},
          "execution_count": 25
        }
      ]
    },
    {
      "cell_type": "markdown",
      "source": [
        "displaying unique entries in values column"
      ],
      "metadata": {
        "id": "x2pj9kxcK3GA"
      }
    },
    {
      "cell_type": "code",
      "source": [
        "df['City'].unique()"
      ],
      "metadata": {
        "colab": {
          "base_uri": "https://localhost:8080/"
        },
        "id": "CrpyHoWlChj0",
        "outputId": "3ff4f2fb-e9e1-4e90-dd81-6e8ec493ded1"
      },
      "execution_count": 26,
      "outputs": [
        {
          "output_type": "execute_result",
          "data": {
            "text/plain": [
              "array(['Bengaluru', 'Coimbatore', 'bangalore', 'Bangalore',\n",
              "       'Garvebhavi Palya', 'Basavanapura', 'Kalapatti', 'Peelamedu',\n",
              "       'Pune', 'Hyderabad', 'Bengaluru (Garvebhavipalya)', 'Kurali',\n",
              "       'Banagalore', 'Benguluru', 'Electronic City', 'Nanekarwadi',\n",
              "       'Nashik', 'New Delhi', 'Pinjore,', 'bengaluru', 'hyderabad',\n",
              "       'Bangalore Rural', 'Bangalote', 'Bengalure', 'Bhavnagar',\n",
              "       'Chennai', 'Iyava', 'Kancheepuram', 'Kurnool', 'NASHIK',\n",
              "       'NEW DELHI', 'Saravanampatti', 'BENGALURU', 'Kudlu', 'Rewari',\n",
              "       'Bidadi', 'Dehradun', 'Madhapur', 'Mudichur', 'Guduvancheri',\n",
              "       'Nasik', 'PUNE', 'Tirunelveli', 'oragadam', 'BANGALORE', 'Mumbai',\n",
              "       'Vengadasalapuram'], dtype=object)"
            ]
          },
          "metadata": {},
          "execution_count": 26
        }
      ]
    },
    {
      "cell_type": "markdown",
      "source": [
        "replacing all same city names with one name "
      ],
      "metadata": {
        "id": "KGT6K5KuLA1I"
      }
    },
    {
      "cell_type": "code",
      "source": [
        "df['City'].replace({'New Delhi','NEW DELHI'},'New Delhi', inplace =True)"
      ],
      "metadata": {
        "id": "kO6I6BqHGZt_"
      },
      "execution_count": 27,
      "outputs": []
    },
    {
      "cell_type": "code",
      "source": [
        "df['City'].replace({'Banglore','Bangalore','Bengaluru','bangalore','Bengaluru (Garvebhavipalya)','Banagalore','Benguluru','BANGALORE','BENGALURU','bengaluru','Bengalure','Bangalote'},'Bengaluru',inplace=True)"
      ],
      "metadata": {
        "id": "8kSI7eNgCjLr"
      },
      "execution_count": 28,
      "outputs": []
    },
    {
      "cell_type": "code",
      "source": [
        "df['City'].replace({'Nashik','NASHIK','Nasik'},'Nashik', inplace =True)"
      ],
      "metadata": {
        "id": "-iCNRyryG2dT"
      },
      "execution_count": 29,
      "outputs": []
    },
    {
      "cell_type": "code",
      "source": [
        "df['City'].replace({'Pune','PUNE'},'Pune', inplace =True)"
      ],
      "metadata": {
        "id": "u6ASo3mzHTAE"
      },
      "execution_count": 30,
      "outputs": []
    },
    {
      "cell_type": "markdown",
      "source": [
        "checking unique values in value column"
      ],
      "metadata": {
        "id": "Vh9yEjcvLaEL"
      }
    },
    {
      "cell_type": "code",
      "source": [
        "df['City'].unique()"
      ],
      "metadata": {
        "colab": {
          "base_uri": "https://localhost:8080/"
        },
        "id": "KSkQYCRwF78R",
        "outputId": "9c484f3d-13db-4dbc-a3a3-add86b6936f8"
      },
      "execution_count": 31,
      "outputs": [
        {
          "output_type": "execute_result",
          "data": {
            "text/plain": [
              "array(['Bengaluru', 'Coimbatore', 'Garvebhavi Palya', 'Basavanapura',\n",
              "       'Kalapatti', 'Peelamedu', 'Pune', 'Hyderabad', 'Kurali',\n",
              "       'Electronic City', 'Nanekarwadi', 'Nashik', 'New Delhi',\n",
              "       'Pinjore,', 'hyderabad', 'Bangalore Rural', 'Bhavnagar', 'Chennai',\n",
              "       'Iyava', 'Kancheepuram', 'Kurnool', 'Saravanampatti', 'Kudlu',\n",
              "       'Rewari', 'Bidadi', 'Dehradun', 'Madhapur', 'Mudichur',\n",
              "       'Guduvancheri', 'Tirunelveli', 'oragadam', 'Mumbai',\n",
              "       'Vengadasalapuram'], dtype=object)"
            ]
          },
          "metadata": {},
          "execution_count": 31
        }
      ]
    },
    {
      "cell_type": "markdown",
      "source": [
        "checking for duplicate data"
      ],
      "metadata": {
        "id": "tCv9bvwOLQgs"
      }
    },
    {
      "cell_type": "code",
      "source": [
        "df.duplicated(subset={'description','City'}).sum()"
      ],
      "metadata": {
        "colab": {
          "base_uri": "https://localhost:8080/"
        },
        "id": "OLfbEreYISe5",
        "outputId": "6ec3ec5b-9c24-431f-a285-1ff729afd7e2"
      },
      "execution_count": 32,
      "outputs": [
        {
          "output_type": "execute_result",
          "data": {
            "text/plain": [
              "404"
            ]
          },
          "metadata": {},
          "execution_count": 32
        }
      ]
    },
    {
      "cell_type": "markdown",
      "source": [
        "droping duplicate rows"
      ],
      "metadata": {
        "id": "RB5YiVxmLfpt"
      }
    },
    {
      "cell_type": "code",
      "source": [
        "df.drop_duplicates(subset={'description','City'}, keep='first', inplace=True)"
      ],
      "metadata": {
        "id": "kaXxJWy59oGm"
      },
      "execution_count": 33,
      "outputs": []
    },
    {
      "cell_type": "markdown",
      "source": [
        "reseting index "
      ],
      "metadata": {
        "id": "UwNlu8Y8Lm0x"
      }
    },
    {
      "cell_type": "code",
      "source": [
        "df.reset_index(drop=True, inplace=True)"
      ],
      "metadata": {
        "id": "YYozrR4p_IjS"
      },
      "execution_count": 34,
      "outputs": []
    },
    {
      "cell_type": "markdown",
      "source": [
        "rearranging serial number column "
      ],
      "metadata": {
        "id": "X2AJFtL4LsPs"
      }
    },
    {
      "cell_type": "code",
      "source": [
        "df['Serial Number']=df.index"
      ],
      "metadata": {
        "id": "0i8ZWkyMBSOv"
      },
      "execution_count": 35,
      "outputs": []
    },
    {
      "cell_type": "code",
      "source": [
        "df"
      ],
      "metadata": {
        "colab": {
          "base_uri": "https://localhost:8080/",
          "height": 424
        },
        "id": "G5PatVAdAvFr",
        "outputId": "2d05e869-d1f5-4ca2-a461-03491bb5f711"
      },
      "execution_count": 36,
      "outputs": [
        {
          "output_type": "execute_result",
          "data": {
            "text/plain": [
              "      Serial Number                                        description  \\\n",
              "0                 0  <html><body><p>Know how of Automotive Diagnosi...   \n",
              "1                 1  <html><body><ul><li><p>Total 4+ years of exper...   \n",
              "2                 2  <html><body><ul><li><p>Total of 8+ years of ex...   \n",
              "3                 3  <html><body><p>Work Experience : 8-12 years</p...   \n",
              "4                 4  <html><body><p><strong>Job Description </stron...   \n",
              "...             ...                                                ...   \n",
              "1947           1947  <html><body><p>As a SW Integrator you will be ...   \n",
              "1948           1948  <html><body><p>Understand, clarify requirement...   \n",
              "1949           1949  <html><body><p><strong>Driving warehouse impro...   \n",
              "1950           1950  <html><body><p>- Area Service Manager - Networ...   \n",
              "1951           1951  <html><body><p>- Responsible Receipt of custom...   \n",
              "\n",
              "                  City  \n",
              "0            Bengaluru  \n",
              "1            Bengaluru  \n",
              "2            Bengaluru  \n",
              "3            Bengaluru  \n",
              "4            Bengaluru  \n",
              "...                ...  \n",
              "1947              Pune  \n",
              "1948              Pune  \n",
              "1949              Pune  \n",
              "1950              Pune  \n",
              "1951  Vengadasalapuram  \n",
              "\n",
              "[1952 rows x 3 columns]"
            ],
            "text/html": [
              "\n",
              "  <div id=\"df-83270a14-9211-44cf-9e8e-54896609a91e\">\n",
              "    <div class=\"colab-df-container\">\n",
              "      <div>\n",
              "<style scoped>\n",
              "    .dataframe tbody tr th:only-of-type {\n",
              "        vertical-align: middle;\n",
              "    }\n",
              "\n",
              "    .dataframe tbody tr th {\n",
              "        vertical-align: top;\n",
              "    }\n",
              "\n",
              "    .dataframe thead th {\n",
              "        text-align: right;\n",
              "    }\n",
              "</style>\n",
              "<table border=\"1\" class=\"dataframe\">\n",
              "  <thead>\n",
              "    <tr style=\"text-align: right;\">\n",
              "      <th></th>\n",
              "      <th>Serial Number</th>\n",
              "      <th>description</th>\n",
              "      <th>City</th>\n",
              "    </tr>\n",
              "  </thead>\n",
              "  <tbody>\n",
              "    <tr>\n",
              "      <th>0</th>\n",
              "      <td>0</td>\n",
              "      <td>&lt;html&gt;&lt;body&gt;&lt;p&gt;Know how of Automotive Diagnosi...</td>\n",
              "      <td>Bengaluru</td>\n",
              "    </tr>\n",
              "    <tr>\n",
              "      <th>1</th>\n",
              "      <td>1</td>\n",
              "      <td>&lt;html&gt;&lt;body&gt;&lt;ul&gt;&lt;li&gt;&lt;p&gt;Total 4+ years of exper...</td>\n",
              "      <td>Bengaluru</td>\n",
              "    </tr>\n",
              "    <tr>\n",
              "      <th>2</th>\n",
              "      <td>2</td>\n",
              "      <td>&lt;html&gt;&lt;body&gt;&lt;ul&gt;&lt;li&gt;&lt;p&gt;Total of 8+ years of ex...</td>\n",
              "      <td>Bengaluru</td>\n",
              "    </tr>\n",
              "    <tr>\n",
              "      <th>3</th>\n",
              "      <td>3</td>\n",
              "      <td>&lt;html&gt;&lt;body&gt;&lt;p&gt;Work Experience : 8-12 years&lt;/p...</td>\n",
              "      <td>Bengaluru</td>\n",
              "    </tr>\n",
              "    <tr>\n",
              "      <th>4</th>\n",
              "      <td>4</td>\n",
              "      <td>&lt;html&gt;&lt;body&gt;&lt;p&gt;&lt;strong&gt;Job Description &lt;/stron...</td>\n",
              "      <td>Bengaluru</td>\n",
              "    </tr>\n",
              "    <tr>\n",
              "      <th>...</th>\n",
              "      <td>...</td>\n",
              "      <td>...</td>\n",
              "      <td>...</td>\n",
              "    </tr>\n",
              "    <tr>\n",
              "      <th>1947</th>\n",
              "      <td>1947</td>\n",
              "      <td>&lt;html&gt;&lt;body&gt;&lt;p&gt;As a SW Integrator you will be ...</td>\n",
              "      <td>Pune</td>\n",
              "    </tr>\n",
              "    <tr>\n",
              "      <th>1948</th>\n",
              "      <td>1948</td>\n",
              "      <td>&lt;html&gt;&lt;body&gt;&lt;p&gt;Understand, clarify requirement...</td>\n",
              "      <td>Pune</td>\n",
              "    </tr>\n",
              "    <tr>\n",
              "      <th>1949</th>\n",
              "      <td>1949</td>\n",
              "      <td>&lt;html&gt;&lt;body&gt;&lt;p&gt;&lt;strong&gt;Driving warehouse impro...</td>\n",
              "      <td>Pune</td>\n",
              "    </tr>\n",
              "    <tr>\n",
              "      <th>1950</th>\n",
              "      <td>1950</td>\n",
              "      <td>&lt;html&gt;&lt;body&gt;&lt;p&gt;- Area Service Manager - Networ...</td>\n",
              "      <td>Pune</td>\n",
              "    </tr>\n",
              "    <tr>\n",
              "      <th>1951</th>\n",
              "      <td>1951</td>\n",
              "      <td>&lt;html&gt;&lt;body&gt;&lt;p&gt;- Responsible Receipt of custom...</td>\n",
              "      <td>Vengadasalapuram</td>\n",
              "    </tr>\n",
              "  </tbody>\n",
              "</table>\n",
              "<p>1952 rows × 3 columns</p>\n",
              "</div>\n",
              "      <button class=\"colab-df-convert\" onclick=\"convertToInteractive('df-83270a14-9211-44cf-9e8e-54896609a91e')\"\n",
              "              title=\"Convert this dataframe to an interactive table.\"\n",
              "              style=\"display:none;\">\n",
              "        \n",
              "  <svg xmlns=\"http://www.w3.org/2000/svg\" height=\"24px\"viewBox=\"0 0 24 24\"\n",
              "       width=\"24px\">\n",
              "    <path d=\"M0 0h24v24H0V0z\" fill=\"none\"/>\n",
              "    <path d=\"M18.56 5.44l.94 2.06.94-2.06 2.06-.94-2.06-.94-.94-2.06-.94 2.06-2.06.94zm-11 1L8.5 8.5l.94-2.06 2.06-.94-2.06-.94L8.5 2.5l-.94 2.06-2.06.94zm10 10l.94 2.06.94-2.06 2.06-.94-2.06-.94-.94-2.06-.94 2.06-2.06.94z\"/><path d=\"M17.41 7.96l-1.37-1.37c-.4-.4-.92-.59-1.43-.59-.52 0-1.04.2-1.43.59L10.3 9.45l-7.72 7.72c-.78.78-.78 2.05 0 2.83L4 21.41c.39.39.9.59 1.41.59.51 0 1.02-.2 1.41-.59l7.78-7.78 2.81-2.81c.8-.78.8-2.07 0-2.86zM5.41 20L4 18.59l7.72-7.72 1.47 1.35L5.41 20z\"/>\n",
              "  </svg>\n",
              "      </button>\n",
              "      \n",
              "  <style>\n",
              "    .colab-df-container {\n",
              "      display:flex;\n",
              "      flex-wrap:wrap;\n",
              "      gap: 12px;\n",
              "    }\n",
              "\n",
              "    .colab-df-convert {\n",
              "      background-color: #E8F0FE;\n",
              "      border: none;\n",
              "      border-radius: 50%;\n",
              "      cursor: pointer;\n",
              "      display: none;\n",
              "      fill: #1967D2;\n",
              "      height: 32px;\n",
              "      padding: 0 0 0 0;\n",
              "      width: 32px;\n",
              "    }\n",
              "\n",
              "    .colab-df-convert:hover {\n",
              "      background-color: #E2EBFA;\n",
              "      box-shadow: 0px 1px 2px rgba(60, 64, 67, 0.3), 0px 1px 3px 1px rgba(60, 64, 67, 0.15);\n",
              "      fill: #174EA6;\n",
              "    }\n",
              "\n",
              "    [theme=dark] .colab-df-convert {\n",
              "      background-color: #3B4455;\n",
              "      fill: #D2E3FC;\n",
              "    }\n",
              "\n",
              "    [theme=dark] .colab-df-convert:hover {\n",
              "      background-color: #434B5C;\n",
              "      box-shadow: 0px 1px 3px 1px rgba(0, 0, 0, 0.15);\n",
              "      filter: drop-shadow(0px 1px 2px rgba(0, 0, 0, 0.3));\n",
              "      fill: #FFFFFF;\n",
              "    }\n",
              "  </style>\n",
              "\n",
              "      <script>\n",
              "        const buttonEl =\n",
              "          document.querySelector('#df-83270a14-9211-44cf-9e8e-54896609a91e button.colab-df-convert');\n",
              "        buttonEl.style.display =\n",
              "          google.colab.kernel.accessAllowed ? 'block' : 'none';\n",
              "\n",
              "        async function convertToInteractive(key) {\n",
              "          const element = document.querySelector('#df-83270a14-9211-44cf-9e8e-54896609a91e');\n",
              "          const dataTable =\n",
              "            await google.colab.kernel.invokeFunction('convertToInteractive',\n",
              "                                                     [key], {});\n",
              "          if (!dataTable) return;\n",
              "\n",
              "          const docLinkHtml = 'Like what you see? Visit the ' +\n",
              "            '<a target=\"_blank\" href=https://colab.research.google.com/notebooks/data_table.ipynb>data table notebook</a>'\n",
              "            + ' to learn more about interactive tables.';\n",
              "          element.innerHTML = '';\n",
              "          dataTable['output_type'] = 'display_data';\n",
              "          await google.colab.output.renderOutput(dataTable, element);\n",
              "          const docLink = document.createElement('div');\n",
              "          docLink.innerHTML = docLinkHtml;\n",
              "          element.appendChild(docLink);\n",
              "        }\n",
              "      </script>\n",
              "    </div>\n",
              "  </div>\n",
              "  "
            ]
          },
          "metadata": {},
          "execution_count": 36
        }
      ]
    },
    {
      "cell_type": "markdown",
      "source": [
        "displaying information about table"
      ],
      "metadata": {
        "id": "8PaFkDOfNCnV"
      }
    },
    {
      "cell_type": "code",
      "source": [
        "df.info()"
      ],
      "metadata": {
        "colab": {
          "base_uri": "https://localhost:8080/"
        },
        "id": "XH-LBfoIB9v1",
        "outputId": "1bb286c6-7d00-4954-fbba-6edffc061412"
      },
      "execution_count": 37,
      "outputs": [
        {
          "output_type": "stream",
          "name": "stdout",
          "text": [
            "<class 'pandas.core.frame.DataFrame'>\n",
            "RangeIndex: 1952 entries, 0 to 1951\n",
            "Data columns (total 3 columns):\n",
            " #   Column         Non-Null Count  Dtype \n",
            "---  ------         --------------  ----- \n",
            " 0   Serial Number  1952 non-null   int64 \n",
            " 1   description    1952 non-null   object\n",
            " 2   City           1952 non-null   object\n",
            "dtypes: int64(1), object(2)\n",
            "memory usage: 45.9+ KB\n"
          ]
        }
      ]
    },
    {
      "cell_type": "markdown",
      "source": [
        "grouping table by value column"
      ],
      "metadata": {
        "id": "jUq8T3fsNH_N"
      }
    },
    {
      "cell_type": "code",
      "source": [
        "df1=df.groupby(by=['City']).count()"
      ],
      "metadata": {
        "id": "QzQ5lPMyEjcW"
      },
      "execution_count": 46,
      "outputs": []
    },
    {
      "cell_type": "code",
      "source": [
        "df1"
      ],
      "metadata": {
        "colab": {
          "base_uri": "https://localhost:8080/",
          "height": 656
        },
        "id": "pAdIDtaqTD3J",
        "outputId": "cf28ddad-4b77-4da4-e43d-9580618f9106"
      },
      "execution_count": 48,
      "outputs": [
        {
          "output_type": "execute_result",
          "data": {
            "text/plain": [
              "                  Serial Number  description\n",
              "City                                        \n",
              "Bangalore Rural               1            1\n",
              "Basavanapura                  2            2\n",
              "Bengaluru                  1376         1376\n",
              "Bhavnagar                     1            1\n",
              "Bidadi                        3            3\n",
              "Chennai                       5            5\n",
              "Coimbatore                  414          414\n",
              "Dehradun                      1            1\n",
              "Electronic City               1            1\n",
              "Garvebhavi Palya              3            3\n",
              "Guduvancheri                  1            1\n",
              "Hyderabad                    22           22\n",
              "Iyava                        10           10\n",
              "Kalapatti                     7            7\n",
              "Kancheepuram                  1            1\n",
              "Kudlu                         1            1\n",
              "Kurali                        3            3\n",
              "Kurnool                       1            1\n",
              "Madhapur                      3            3\n",
              "Mudichur                      1            1\n",
              "Mumbai                        1            1\n",
              "Nanekarwadi                   4            4\n",
              "Nashik                        9            9\n",
              "New Delhi                     4            4\n",
              "Peelamedu                    12           12\n",
              "Pinjore,                      1            1\n",
              "Pune                         58           58\n",
              "Rewari                        1            1\n",
              "Saravanampatti                1            1\n",
              "Tirunelveli                   1            1\n",
              "Vengadasalapuram              1            1\n",
              "hyderabad                     1            1\n",
              "oragadam                      1            1"
            ],
            "text/html": [
              "\n",
              "  <div id=\"df-5b0fe8e1-38a2-407e-aa9e-e7bff694de86\">\n",
              "    <div class=\"colab-df-container\">\n",
              "      <div>\n",
              "<style scoped>\n",
              "    .dataframe tbody tr th:only-of-type {\n",
              "        vertical-align: middle;\n",
              "    }\n",
              "\n",
              "    .dataframe tbody tr th {\n",
              "        vertical-align: top;\n",
              "    }\n",
              "\n",
              "    .dataframe thead th {\n",
              "        text-align: right;\n",
              "    }\n",
              "</style>\n",
              "<table border=\"1\" class=\"dataframe\">\n",
              "  <thead>\n",
              "    <tr style=\"text-align: right;\">\n",
              "      <th></th>\n",
              "      <th>Serial Number</th>\n",
              "      <th>description</th>\n",
              "    </tr>\n",
              "    <tr>\n",
              "      <th>City</th>\n",
              "      <th></th>\n",
              "      <th></th>\n",
              "    </tr>\n",
              "  </thead>\n",
              "  <tbody>\n",
              "    <tr>\n",
              "      <th>Bangalore Rural</th>\n",
              "      <td>1</td>\n",
              "      <td>1</td>\n",
              "    </tr>\n",
              "    <tr>\n",
              "      <th>Basavanapura</th>\n",
              "      <td>2</td>\n",
              "      <td>2</td>\n",
              "    </tr>\n",
              "    <tr>\n",
              "      <th>Bengaluru</th>\n",
              "      <td>1376</td>\n",
              "      <td>1376</td>\n",
              "    </tr>\n",
              "    <tr>\n",
              "      <th>Bhavnagar</th>\n",
              "      <td>1</td>\n",
              "      <td>1</td>\n",
              "    </tr>\n",
              "    <tr>\n",
              "      <th>Bidadi</th>\n",
              "      <td>3</td>\n",
              "      <td>3</td>\n",
              "    </tr>\n",
              "    <tr>\n",
              "      <th>Chennai</th>\n",
              "      <td>5</td>\n",
              "      <td>5</td>\n",
              "    </tr>\n",
              "    <tr>\n",
              "      <th>Coimbatore</th>\n",
              "      <td>414</td>\n",
              "      <td>414</td>\n",
              "    </tr>\n",
              "    <tr>\n",
              "      <th>Dehradun</th>\n",
              "      <td>1</td>\n",
              "      <td>1</td>\n",
              "    </tr>\n",
              "    <tr>\n",
              "      <th>Electronic City</th>\n",
              "      <td>1</td>\n",
              "      <td>1</td>\n",
              "    </tr>\n",
              "    <tr>\n",
              "      <th>Garvebhavi Palya</th>\n",
              "      <td>3</td>\n",
              "      <td>3</td>\n",
              "    </tr>\n",
              "    <tr>\n",
              "      <th>Guduvancheri</th>\n",
              "      <td>1</td>\n",
              "      <td>1</td>\n",
              "    </tr>\n",
              "    <tr>\n",
              "      <th>Hyderabad</th>\n",
              "      <td>22</td>\n",
              "      <td>22</td>\n",
              "    </tr>\n",
              "    <tr>\n",
              "      <th>Iyava</th>\n",
              "      <td>10</td>\n",
              "      <td>10</td>\n",
              "    </tr>\n",
              "    <tr>\n",
              "      <th>Kalapatti</th>\n",
              "      <td>7</td>\n",
              "      <td>7</td>\n",
              "    </tr>\n",
              "    <tr>\n",
              "      <th>Kancheepuram</th>\n",
              "      <td>1</td>\n",
              "      <td>1</td>\n",
              "    </tr>\n",
              "    <tr>\n",
              "      <th>Kudlu</th>\n",
              "      <td>1</td>\n",
              "      <td>1</td>\n",
              "    </tr>\n",
              "    <tr>\n",
              "      <th>Kurali</th>\n",
              "      <td>3</td>\n",
              "      <td>3</td>\n",
              "    </tr>\n",
              "    <tr>\n",
              "      <th>Kurnool</th>\n",
              "      <td>1</td>\n",
              "      <td>1</td>\n",
              "    </tr>\n",
              "    <tr>\n",
              "      <th>Madhapur</th>\n",
              "      <td>3</td>\n",
              "      <td>3</td>\n",
              "    </tr>\n",
              "    <tr>\n",
              "      <th>Mudichur</th>\n",
              "      <td>1</td>\n",
              "      <td>1</td>\n",
              "    </tr>\n",
              "    <tr>\n",
              "      <th>Mumbai</th>\n",
              "      <td>1</td>\n",
              "      <td>1</td>\n",
              "    </tr>\n",
              "    <tr>\n",
              "      <th>Nanekarwadi</th>\n",
              "      <td>4</td>\n",
              "      <td>4</td>\n",
              "    </tr>\n",
              "    <tr>\n",
              "      <th>Nashik</th>\n",
              "      <td>9</td>\n",
              "      <td>9</td>\n",
              "    </tr>\n",
              "    <tr>\n",
              "      <th>New Delhi</th>\n",
              "      <td>4</td>\n",
              "      <td>4</td>\n",
              "    </tr>\n",
              "    <tr>\n",
              "      <th>Peelamedu</th>\n",
              "      <td>12</td>\n",
              "      <td>12</td>\n",
              "    </tr>\n",
              "    <tr>\n",
              "      <th>Pinjore,</th>\n",
              "      <td>1</td>\n",
              "      <td>1</td>\n",
              "    </tr>\n",
              "    <tr>\n",
              "      <th>Pune</th>\n",
              "      <td>58</td>\n",
              "      <td>58</td>\n",
              "    </tr>\n",
              "    <tr>\n",
              "      <th>Rewari</th>\n",
              "      <td>1</td>\n",
              "      <td>1</td>\n",
              "    </tr>\n",
              "    <tr>\n",
              "      <th>Saravanampatti</th>\n",
              "      <td>1</td>\n",
              "      <td>1</td>\n",
              "    </tr>\n",
              "    <tr>\n",
              "      <th>Tirunelveli</th>\n",
              "      <td>1</td>\n",
              "      <td>1</td>\n",
              "    </tr>\n",
              "    <tr>\n",
              "      <th>Vengadasalapuram</th>\n",
              "      <td>1</td>\n",
              "      <td>1</td>\n",
              "    </tr>\n",
              "    <tr>\n",
              "      <th>hyderabad</th>\n",
              "      <td>1</td>\n",
              "      <td>1</td>\n",
              "    </tr>\n",
              "    <tr>\n",
              "      <th>oragadam</th>\n",
              "      <td>1</td>\n",
              "      <td>1</td>\n",
              "    </tr>\n",
              "  </tbody>\n",
              "</table>\n",
              "</div>\n",
              "      <button class=\"colab-df-convert\" onclick=\"convertToInteractive('df-5b0fe8e1-38a2-407e-aa9e-e7bff694de86')\"\n",
              "              title=\"Convert this dataframe to an interactive table.\"\n",
              "              style=\"display:none;\">\n",
              "        \n",
              "  <svg xmlns=\"http://www.w3.org/2000/svg\" height=\"24px\"viewBox=\"0 0 24 24\"\n",
              "       width=\"24px\">\n",
              "    <path d=\"M0 0h24v24H0V0z\" fill=\"none\"/>\n",
              "    <path d=\"M18.56 5.44l.94 2.06.94-2.06 2.06-.94-2.06-.94-.94-2.06-.94 2.06-2.06.94zm-11 1L8.5 8.5l.94-2.06 2.06-.94-2.06-.94L8.5 2.5l-.94 2.06-2.06.94zm10 10l.94 2.06.94-2.06 2.06-.94-2.06-.94-.94-2.06-.94 2.06-2.06.94z\"/><path d=\"M17.41 7.96l-1.37-1.37c-.4-.4-.92-.59-1.43-.59-.52 0-1.04.2-1.43.59L10.3 9.45l-7.72 7.72c-.78.78-.78 2.05 0 2.83L4 21.41c.39.39.9.59 1.41.59.51 0 1.02-.2 1.41-.59l7.78-7.78 2.81-2.81c.8-.78.8-2.07 0-2.86zM5.41 20L4 18.59l7.72-7.72 1.47 1.35L5.41 20z\"/>\n",
              "  </svg>\n",
              "      </button>\n",
              "      \n",
              "  <style>\n",
              "    .colab-df-container {\n",
              "      display:flex;\n",
              "      flex-wrap:wrap;\n",
              "      gap: 12px;\n",
              "    }\n",
              "\n",
              "    .colab-df-convert {\n",
              "      background-color: #E8F0FE;\n",
              "      border: none;\n",
              "      border-radius: 50%;\n",
              "      cursor: pointer;\n",
              "      display: none;\n",
              "      fill: #1967D2;\n",
              "      height: 32px;\n",
              "      padding: 0 0 0 0;\n",
              "      width: 32px;\n",
              "    }\n",
              "\n",
              "    .colab-df-convert:hover {\n",
              "      background-color: #E2EBFA;\n",
              "      box-shadow: 0px 1px 2px rgba(60, 64, 67, 0.3), 0px 1px 3px 1px rgba(60, 64, 67, 0.15);\n",
              "      fill: #174EA6;\n",
              "    }\n",
              "\n",
              "    [theme=dark] .colab-df-convert {\n",
              "      background-color: #3B4455;\n",
              "      fill: #D2E3FC;\n",
              "    }\n",
              "\n",
              "    [theme=dark] .colab-df-convert:hover {\n",
              "      background-color: #434B5C;\n",
              "      box-shadow: 0px 1px 3px 1px rgba(0, 0, 0, 0.15);\n",
              "      filter: drop-shadow(0px 1px 2px rgba(0, 0, 0, 0.3));\n",
              "      fill: #FFFFFF;\n",
              "    }\n",
              "  </style>\n",
              "\n",
              "      <script>\n",
              "        const buttonEl =\n",
              "          document.querySelector('#df-5b0fe8e1-38a2-407e-aa9e-e7bff694de86 button.colab-df-convert');\n",
              "        buttonEl.style.display =\n",
              "          google.colab.kernel.accessAllowed ? 'block' : 'none';\n",
              "\n",
              "        async function convertToInteractive(key) {\n",
              "          const element = document.querySelector('#df-5b0fe8e1-38a2-407e-aa9e-e7bff694de86');\n",
              "          const dataTable =\n",
              "            await google.colab.kernel.invokeFunction('convertToInteractive',\n",
              "                                                     [key], {});\n",
              "          if (!dataTable) return;\n",
              "\n",
              "          const docLinkHtml = 'Like what you see? Visit the ' +\n",
              "            '<a target=\"_blank\" href=https://colab.research.google.com/notebooks/data_table.ipynb>data table notebook</a>'\n",
              "            + ' to learn more about interactive tables.';\n",
              "          element.innerHTML = '';\n",
              "          dataTable['output_type'] = 'display_data';\n",
              "          await google.colab.output.renderOutput(dataTable, element);\n",
              "          const docLink = document.createElement('div');\n",
              "          docLink.innerHTML = docLinkHtml;\n",
              "          element.appendChild(docLink);\n",
              "        }\n",
              "      </script>\n",
              "    </div>\n",
              "  </div>\n",
              "  "
            ]
          },
          "metadata": {},
          "execution_count": 48
        }
      ]
    },
    {
      "cell_type": "markdown",
      "source": [
        "plotting bar graph."
      ],
      "metadata": {
        "id": "eb-LJiLI-ynG"
      }
    },
    {
      "cell_type": "code",
      "source": [
        "df.groupby(by=['City']).size().plot(kind = \"bar\")"
      ],
      "metadata": {
        "colab": {
          "base_uri": "https://localhost:8080/",
          "height": 514
        },
        "id": "Hh8pXpFX6IJ_",
        "outputId": "a7a5ee78-61ce-4dbe-e0ec-fbd4df87bfa0"
      },
      "execution_count": 57,
      "outputs": [
        {
          "output_type": "error",
          "ename": "AttributeError",
          "evalue": "ignored",
          "traceback": [
            "\u001b[0;31m---------------------------------------------------------------------------\u001b[0m",
            "\u001b[0;31mAttributeError\u001b[0m                            Traceback (most recent call last)",
            "\u001b[0;32m<ipython-input-57-fab2373f6c33>\u001b[0m in \u001b[0;36m<module>\u001b[0;34m\u001b[0m\n\u001b[0;32m----> 1\u001b[0;31m \u001b[0mdf\u001b[0m\u001b[0;34m.\u001b[0m\u001b[0mgroupby\u001b[0m\u001b[0;34m(\u001b[0m\u001b[0mby\u001b[0m\u001b[0;34m=\u001b[0m\u001b[0;34m[\u001b[0m\u001b[0;34m'City'\u001b[0m\u001b[0;34m]\u001b[0m\u001b[0;34m)\u001b[0m\u001b[0;34m.\u001b[0m\u001b[0msize\u001b[0m\u001b[0;34m(\u001b[0m\u001b[0;34m)\u001b[0m\u001b[0;34m.\u001b[0m\u001b[0mplot\u001b[0m\u001b[0;34m(\u001b[0m\u001b[0mkind\u001b[0m \u001b[0;34m=\u001b[0m \u001b[0;34m\"bar\"\u001b[0m\u001b[0;34m)\u001b[0m\u001b[0;34m.\u001b[0m\u001b[0mquery\u001b[0m\u001b[0;34m(\u001b[0m\u001b[0;34m'count>=100'\u001b[0m\u001b[0;34m)\u001b[0m\u001b[0;34m\u001b[0m\u001b[0;34m\u001b[0m\u001b[0m\n\u001b[0m",
            "\u001b[0;31mAttributeError\u001b[0m: 'AxesSubplot' object has no attribute 'query'"
          ]
        },
        {
          "output_type": "display_data",
          "data": {
            "text/plain": [
              "<Figure size 432x288 with 1 Axes>"
            ],
            "image/png": "[encoded data removed]"
          },
          "metadata": {
            "needs_background": "light"
          }
        }
      ]
    },
    {
      "cell_type": "markdown",
      "source": [
        "plotting only city having more than or equal to 10 no of description\n"
      ],
      "metadata": {
        "id": "eC0Pl-FVBPFK"
      }
    },
    {
      "cell_type": "code",
      "source": [
        "plot_data = df.groupby('City').size().reset_index(name='count').query('count>=10')\n",
        "sns.barplot(data=plot_data, x='City', y='count')"
      ],
      "metadata": {
        "colab": {
          "base_uri": "https://localhost:8080/",
          "height": 296
        },
        "id": "Zcy4H-9AAPBH",
        "outputId": "1dba791a-f6b5-4a87-c902-3a12f375a234"
      },
      "execution_count": 59,
      "outputs": [
        {
          "output_type": "execute_result",
          "data": {
            "text/plain": [
              "<matplotlib.axes._subplots.AxesSubplot at 0x7fb12cebb290>"
            ]
          },
          "metadata": {},
          "execution_count": 59
        },
        {
          "output_type": "display_data",
          "data": {
            "text/plain": [
              "<Figure size 432x288 with 1 Axes>"
            ],
            "image/png": "[encoded data removed]"
          },
          "metadata": {
            "needs_background": "light"
          }
        }
      ]
    }
  ]
}